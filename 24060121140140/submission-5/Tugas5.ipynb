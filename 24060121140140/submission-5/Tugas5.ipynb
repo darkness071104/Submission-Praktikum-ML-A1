{
  "nbformat": 4,
  "nbformat_minor": 0,
  "metadata": {
    "colab": {
      "provenance": []
    },
    "kernelspec": {
      "name": "python3",
      "display_name": "Python 3"
    },
    "language_info": {
      "name": "python"
    }
  },
  "cells": [
    {
      "cell_type": "markdown",
      "source": [
        "\n",
        "* Nama: Fauzan Ramadhan Putra\n",
        "* NIM : 24060121140140\n",
        "* Lab : ML A1\n",
        "* Pertemuan : Pertemuan 6 - Principal Component Analysis"
      ],
      "metadata": {
        "id": "TH5g43oJvord"
      }
    },
    {
      "cell_type": "code",
      "source": [
        "# Mengimpor pustaka pandas untuk manipulasi dan analisis data\n",
        "import pandas as pd\n",
        "\n",
        "# Mengimpor modul pyplot dari pustaka matplotlib untuk membuat visualisasi data\n",
        "from matplotlib import pyplot as plt\n",
        "\n",
        "# Mengimpor kelas StandardScaler dari pustaka scikit-learn untuk standarisasi fitur\n",
        "from sklearn.preprocessing import StandardScaler\n",
        "\n",
        "# Mengimpor kelas PCA (Principal Component Analysis) dari pustaka scikit-learn untuk reduksi dimensi\n",
        "from sklearn.decomposition import PCA"
      ],
      "metadata": {
        "id": "XpPdFPezYVWU"
      },
      "execution_count": 28,
      "outputs": []
    },
    {
      "cell_type": "code",
      "execution_count": 29,
      "metadata": {
        "id": "9pBSlKVbXWqw",
        "colab": {
          "base_uri": "https://localhost:8080/"
        },
        "outputId": "62e8342c-bffa-492a-ca0d-2d54e70072db"
      },
      "outputs": [
        {
          "output_type": "stream",
          "name": "stdout",
          "text": [
            "<class 'pandas.core.frame.DataFrame'>\n",
            "RangeIndex: 700 entries, 0 to 699\n",
            "Data columns (total 11 columns):\n",
            " #   Column                       Non-Null Count  Dtype \n",
            "---  ------                       --------------  ----- \n",
            " 0   Sample_code_number           700 non-null    object\n",
            " 1   Clump_thickness              700 non-null    object\n",
            " 2   Uniformity_of_cell_size      700 non-null    object\n",
            " 3   Uniformity_of_cell_shape     700 non-null    object\n",
            " 4   Marginal_adhesion            700 non-null    object\n",
            " 5   Single_epithelial_cell_size  700 non-null    object\n",
            " 6   Bare_nuclei                  684 non-null    object\n",
            " 7   Bland_chromatin              700 non-null    object\n",
            " 8   Normal_nucleoli              700 non-null    object\n",
            " 9   Mitoses                      700 non-null    object\n",
            " 10  Class                        700 non-null    object\n",
            "dtypes: object(11)\n",
            "memory usage: 60.3+ KB\n"
          ]
        }
      ],
      "source": [
        "# Mendefinisikan link dataset\n",
        "url = \"https://archive.ics.uci.edu/static/public/15/data.csv\"\n",
        "\n",
        "# Membaca dataset dari URL\n",
        "df = pd.read_csv(url, names=['Sample_code_number','Clump_thickness','Uniformity_of_cell_size','Uniformity_of_cell_shape','Marginal_adhesion','Single_epithelial_cell_size','Bare_nuclei','Bland_chromatin','Normal_nucleoli','Mitoses','Class'])\n",
        "\n",
        "# Menampilkan informasi mengenai struktur dataset\n",
        "df.info()"
      ]
    },
    {
      "cell_type": "markdown",
      "source": [
        "* Karena semua kolom typenya adalah 'object' maka ganti type disetiap kolom menjadi integer/float, kecuali untuk kolom Class yang menjadi target kita rubah kedalam bentuk String, dimana pada dataset tersebut sudah diberikan pentujuk untuk bagaimana kolom class datanya dirubah, yaitu **2 = benign, 4 = malignant**."
      ],
      "metadata": {
        "id": "uXOdvzpYoLTg"
      }
    },
    {
      "cell_type": "code",
      "source": [
        "# Menggunakan pd.to_numeric untuk mengonversi nilai-nilai dalam DataFrame menjadi tipe data numerik,\n",
        "# dengan menggantikan nilai yang tidak dapat dikonversi menjadi NaN.\n",
        "df = df.apply(pd.to_numeric, errors='coerce')\n",
        "\n",
        "# Mengganti nilai kelas (Class) menjadi 'benign' untuk nilai 2 dan 'malignant' untuk nilai 4.\n",
        "df['Class'] = df['Class'].map({2: 'benign', 4: 'malignant'})\n",
        "\n",
        "# Menampilkan informasi tentang DataFrame, termasuk tipe data dan jumlah nilai yang tidak hilang.\n",
        "df.info()"
      ],
      "metadata": {
        "colab": {
          "base_uri": "https://localhost:8080/"
        },
        "id": "CFCOPZ1jkGtF",
        "outputId": "19b4701d-5160-425e-d34d-4cc5c0601886"
      },
      "execution_count": 30,
      "outputs": [
        {
          "output_type": "stream",
          "name": "stdout",
          "text": [
            "<class 'pandas.core.frame.DataFrame'>\n",
            "RangeIndex: 700 entries, 0 to 699\n",
            "Data columns (total 11 columns):\n",
            " #   Column                       Non-Null Count  Dtype  \n",
            "---  ------                       --------------  -----  \n",
            " 0   Sample_code_number           699 non-null    float64\n",
            " 1   Clump_thickness              699 non-null    float64\n",
            " 2   Uniformity_of_cell_size      699 non-null    float64\n",
            " 3   Uniformity_of_cell_shape     699 non-null    float64\n",
            " 4   Marginal_adhesion            699 non-null    float64\n",
            " 5   Single_epithelial_cell_size  699 non-null    float64\n",
            " 6   Bare_nuclei                  683 non-null    float64\n",
            " 7   Bland_chromatin              699 non-null    float64\n",
            " 8   Normal_nucleoli              699 non-null    float64\n",
            " 9   Mitoses                      699 non-null    float64\n",
            " 10  Class                        699 non-null    object \n",
            "dtypes: float64(10), object(1)\n",
            "memory usage: 60.3+ KB\n"
          ]
        }
      ]
    },
    {
      "cell_type": "markdown",
      "source": [
        "* Setelah type datanya dirubah maka kita perlu mengecek apakah datanya adanya NaN atau tidak."
      ],
      "metadata": {
        "id": "vUwUKJvRpL_p"
      }
    },
    {
      "cell_type": "code",
      "source": [
        "# Menampilkan banyak data yang NaN pada setiap kolom\n",
        "df.isnull().sum()"
      ],
      "metadata": {
        "colab": {
          "base_uri": "https://localhost:8080/"
        },
        "id": "L6JhLOCWklmc",
        "outputId": "63acb79f-d870-462b-fa2c-e4dbb870654f"
      },
      "execution_count": 31,
      "outputs": [
        {
          "output_type": "execute_result",
          "data": {
            "text/plain": [
              "Sample_code_number              1\n",
              "Clump_thickness                 1\n",
              "Uniformity_of_cell_size         1\n",
              "Uniformity_of_cell_shape        1\n",
              "Marginal_adhesion               1\n",
              "Single_epithelial_cell_size     1\n",
              "Bare_nuclei                    17\n",
              "Bland_chromatin                 1\n",
              "Normal_nucleoli                 1\n",
              "Mitoses                         1\n",
              "Class                           1\n",
              "dtype: int64"
            ]
          },
          "metadata": {},
          "execution_count": 31
        }
      ]
    },
    {
      "cell_type": "markdown",
      "source": [
        "* Ternyata disetiap kolom terdapat nilai yang kosong, maka kita harus menghapus nilai kosong tersebut"
      ],
      "metadata": {
        "id": "TSSrFdCmpnPk"
      }
    },
    {
      "cell_type": "code",
      "source": [
        "# Melakukan penghapusan data yang kosong atau tidak valid\n",
        "df = df.dropna()\n",
        "# Menampilkan banyak data yang NaN pada setiap kolom\n",
        "df.isnull().sum()"
      ],
      "metadata": {
        "colab": {
          "base_uri": "https://localhost:8080/"
        },
        "id": "Gja6zE42k3Qy",
        "outputId": "bd0bd73f-60d3-4225-ca5f-6f2d65328d16"
      },
      "execution_count": 19,
      "outputs": [
        {
          "output_type": "execute_result",
          "data": {
            "text/plain": [
              "Sample_code_number             0\n",
              "Clump_thickness                0\n",
              "Uniformity_of_cell_size        0\n",
              "Uniformity_of_cell_shape       0\n",
              "Marginal_adhesion              0\n",
              "Single_epithelial_cell_size    0\n",
              "Bare_nuclei                    0\n",
              "Bland_chromatin                0\n",
              "Normal_nucleoli                0\n",
              "Mitoses                        0\n",
              "Class                          0\n",
              "dtype: int64"
            ]
          },
          "metadata": {},
          "execution_count": 19
        }
      ]
    },
    {
      "cell_type": "code",
      "source": [
        "# Mencetak nilai unique dari kolom Class yang digunakan sebagai target\n",
        "print(df['Class'].unique())"
      ],
      "metadata": {
        "colab": {
          "base_uri": "https://localhost:8080/"
        },
        "id": "1N-pNpXoniSD",
        "outputId": "c8c73422-d50b-4271-8ff3-a906efd6f4d7"
      },
      "execution_count": 24,
      "outputs": [
        {
          "output_type": "stream",
          "name": "stdout",
          "text": [
            "['benign' 'malignant']\n"
          ]
        }
      ]
    },
    {
      "cell_type": "markdown",
      "source": [
        "* Ternyata pada kolom Class terdapat dua nilai unik yaitu **['benign', 'malignant']**"
      ],
      "metadata": {
        "id": "m_CGRui4qaxe"
      }
    },
    {
      "cell_type": "code",
      "source": [
        "# List fitur yang akan digunakan dalam analisis data\n",
        "features = ['Sample_code_number', 'Clump_thickness', 'Uniformity_of_cell_size', 'Uniformity_of_cell_shape', 'Marginal_adhesion', 'Single_epithelial_cell_size', 'Bare_nuclei', 'Bland_chromatin', 'Normal_nucleoli', 'Mitoses']\n",
        "\n",
        "# Memisahkan fitur dari DataFrame, menciptakan matriks x\n",
        "x = df.loc[:, features].values\n",
        "\n",
        "# Memisahkan target ('Class') dari DataFrame, menciptakan matriks y\n",
        "y = df.loc[:, ['Class']].values\n",
        "\n",
        "# Melakukan standardisasi fitur menggunakan StandardScaler\n",
        "x = StandardScaler().fit_transform(x)"
      ],
      "metadata": {
        "id": "OOevlvlIYUfy"
      },
      "execution_count": 20,
      "outputs": []
    },
    {
      "cell_type": "markdown",
      "source": [
        "* **features**: Sebuah list yang berisi nama-nama fitur yang akan digunakan dalam analisis data. Fitur-fitur ini diambil dari suatu dataset yang diasumsikan sebagai df.\n",
        "\n",
        "* **x = df.loc[:, features].values**: Menciptakan matriks x yang berisi nilai-nilai dari fitur-fitur yang telah didefinisikan sebelumnya. Fungsi loc digunakan untuk mengakses data dalam DataFrame df berdasarkan baris dan kolom tertentu.\n",
        "\n",
        "* **y = df.loc[:, ['Class']].values**: Menciptakan matriks target y yang berisi nilai-nilai dari kolom 'Class' dalam DataFrame df. Ini mengasumsikan bahwa 'Class' adalah target atau label dari dataset.\n",
        "\n",
        "* **x = StandardScaler().fit_transform(x)**: Melakukan standardisasi pada data fitur (x) menggunakan StandardScaler dari scikit-learn. Standardisasi ini adalah proses normalisasi data sehingga setiap fitur memiliki rata-rata nol dan deviasi standar satu. Hal ini membantu algoritma pembelajaran mesin yang sensitif terhadap skala data untuk bekerja lebih baik."
      ],
      "metadata": {
        "id": "7pIycaVAqyX8"
      }
    },
    {
      "cell_type": "code",
      "source": [
        "# Inisialisasi objek PCA dengan menentukan jumlah komponen yang diinginkan (dalam hal ini 2)\n",
        "pca = PCA(n_components=2)\n",
        "\n",
        "# Melakukan transformasi data menggunakan PCA\n",
        "principalComponents = pca.fit_transform(x)\n",
        "\n",
        "# Membuat DataFrame baru untuk menyimpan hasil transformasi\n",
        "principalDf = pd.DataFrame(data=principalComponents,\n",
        "                           columns=['Principal Component 1', 'Principal Component 2'])\n",
        "\n",
        "# Menampilkan ringkasan statistik dari DataFrame hasil transformasi\n",
        "print(principalDf.describe())"
      ],
      "metadata": {
        "colab": {
          "base_uri": "https://localhost:8080/"
        },
        "id": "qybO-7p5lTAh",
        "outputId": "162533c2-a8b9-4bb2-c40c-239a2e88b32b"
      },
      "execution_count": 21,
      "outputs": [
        {
          "output_type": "stream",
          "name": "stdout",
          "text": [
            "       Principal Component 1  Principal Component 2\n",
            "count             683.000000           6.830000e+02\n",
            "mean                0.000000           4.161304e-17\n",
            "std                 2.431863           1.000694e+00\n",
            "min                -2.472266          -1.764521e+00\n",
            "25%                -1.832407          -2.557504e-01\n",
            "50%                -1.462961           1.238632e-01\n",
            "75%                 2.022949           2.837194e-01\n",
            "max                 6.997844           1.980678e+01\n"
          ]
        }
      ]
    },
    {
      "cell_type": "markdown",
      "source": [
        "* **Inisialisasi PCA**: Membuat objek PCA dengan menyertakan parameter n_components=2 untuk menentukan bahwa kita hanya ingin dua komponen utama.\n",
        "\n",
        "* **Transformasi Data**: Menggunakan metode fit_transform dari objek PCA untuk mentransformasikan data x ke dalam ruang komponen utama.\n",
        "\n",
        "* **Membuat DataFrame**: Membuat DataFrame baru (principalDf) untuk menyimpan hasil transformasi dengan memberi nama kolom sebagai 'Principal Component 1' dan 'Principal Component 2'.\n",
        "\n",
        "* **Menampilkan Statistik Deskriptif**: Menampilkan ringkasan statistik dari DataFrame hasil transformasi menggunakan metode describe()."
      ],
      "metadata": {
        "id": "CfLy0ff_rcql"
      }
    },
    {
      "cell_type": "code",
      "source": [
        "# Menggunakan fungsi concat dari pandas untuk menggabungkan dua dataframe secara berdampingan (axis=1)\n",
        "finalDf = pd.concat([principalDf, df[['Class']]], axis=1)"
      ],
      "metadata": {
        "id": "yqzrjb0LlUsV"
      },
      "execution_count": 22,
      "outputs": []
    },
    {
      "cell_type": "markdown",
      "source": [
        "* **pd.concat**: Fungsi ini digunakan untuk menggabungkan dua atau lebih objek pandas, dalam hal ini dua dataframe.\n",
        "\n",
        "* **[principalDf, df[['Class']]]**: Merupakan list yang berisi dua objek yang akan digabungkan. principalDf adalah dataframe pertama, dan df[['Class']] adalah dataframe kedua yang hanya memilih kolom 'Class' dari dataframe df.\n",
        "\n",
        "* **axis=1**: Parameter ini menunjukkan bahwa penggabungan dilakukan berdasarkan sumbu kolom. Dengan kata lain, dataframe akan digabungkan secara horizontal (berdampingan)."
      ],
      "metadata": {
        "id": "MgxS4tI_r42j"
      }
    },
    {
      "cell_type": "code",
      "source": [
        "# Membuat gambar (figure) dengan ukuran 8x8 inci\n",
        "fig = plt.figure(figsize=(8, 8))\n",
        "\n",
        "# Menambahkan subplot 1x1 ke dalam gambar\n",
        "ax = fig.add_subplot(1, 1, 1)\n",
        "\n",
        "# Menetapkan label sumbu x dan y beserta judul plot\n",
        "ax.set_xlabel('Principal Component 1', fontsize=15)\n",
        "ax.set_ylabel('Principal Component 2', fontsize=15)\n",
        "ax.set_title('2 component PCA', fontsize=20)\n",
        "\n",
        "# Definisi kelas target dan warna yang sesuai\n",
        "targets = ['benign', 'malignant']\n",
        "colors = ['green', 'blue']\n",
        "\n",
        "# Menetapkan batas sumbu x dan y\n",
        "ax.set_xlim([-8, 8])\n",
        "ax.set_ylim([-8, 8])\n",
        "\n",
        "# Iterasi melalui kelas target\n",
        "for target, color in zip(targets, colors):\n",
        "    # Mengambil indeks yang sesuai dengan kelas target\n",
        "    indicesToKeep = finalDf['Class'] == target\n",
        "\n",
        "    # Membuat scatter plot untuk setiap kelas target dengan warna yang sesuai\n",
        "    ax.scatter(finalDf.loc[indicesToKeep, 'Principal Component 1'],\n",
        "               finalDf.loc[indicesToKeep, 'Principal Component 2'],\n",
        "               c=color, s=50)\n",
        "\n",
        "    # Menambahkan legenda untuk setiap kelas target\n",
        "    ax.legend(targets)\n",
        "\n",
        "    # Menambahkan grid pada plot\n",
        "    ax.grid()"
      ],
      "metadata": {
        "colab": {
          "base_uri": "https://localhost:8080/",
          "height": 732
        },
        "id": "fKYp8Xljnbd6",
        "outputId": "da165cb8-79e1-48cc-94bb-6492256fb1c4"
      },
      "execution_count": 32,
      "outputs": [
        {
          "output_type": "display_data",
          "data": {
            "text/plain": [
              "<Figure size 800x800 with 1 Axes>"
            ],
            "image/png": "[encoded data removed]"
          },
          "metadata": {}
        }
      ]
    },
    {
      "cell_type": "markdown",
      "source": [
        "\n",
        "Penjelasan Code:\n",
        "* **fig = plt.figure(figsize=(8, 8))**: Membuat objek gambar (figure) dengan ukuran 8x8 inci.\n",
        "\n",
        "* **ax = fig.add_subplot(1, 1, 1)**: Menambahkan subplot 1x1 ke dalam gambar.\n",
        "\n",
        "* **ax.set_xlabel, ax.set_ylabel, ax.set_title**: Menetapkan label sumbu x dan y beserta judul plot.\n",
        "\n",
        "* **targets = ['benign', 'malignant']**: Mendefinisikan kelas target.\n",
        "\n",
        "* **colors = ['green', 'blue']**: Mendefinisikan warna yang sesuai untuk setiap kelas target.\n",
        "\n",
        "* **ax.set_xlim([-8, 8]), ax.set_ylim([-8, 8])**: Menetapkan batas sumbu x dan y pada rentang [-8, 8].\n",
        "\n",
        "* **for target, color in zip(targets, colors): ... **: Iterasi melalui setiap kelas target dan warna yang sesuai.\n",
        "\n",
        "* **indicesToKeep = finalDf['Class'] == target**: Mengambil indeks yang sesuai dengan kelas target.\n",
        "\n",
        "* **ax.scatter(...)**: Membuat scatter plot untuk setiap kelas target dengan warna yang sesuai.\n",
        "\n",
        "* **ax.legend(targets)**: Menambahkan legenda untuk setiap kelas target.\n",
        "\n",
        "* **ax.grid()**: Menambahkan grid pada plot.\n",
        "\n",
        "Penjelasan Hasil:\n",
        "\n",
        "\n",
        "> Gambar scatter plot 2 komponen PCA menunjukkan bahwa sampel-sampel Breast Cancer dapat dipisahkan dengan cukup baik berdasarkan nilai **Principal Component 1** dan **Principal Component 2**. Sampel-sampel **benign** cenderung berada di bagian atas kiri plot, sedangkan sampel-sampel **malignant** cenderung berada di bagian bawah kanan plot.\n",
        "\n",
        "> Secara lebih spesifik, sampel-sampel **benign** memiliki nilai **Principal Component 1** yang lebih tinggi dan nilai **Principal Component 2** yang lebih rendah dibandingkan dengan sampel-sampel **malignant**. Hal ini menunjukkan bahwa sampel-sampel **benign** memiliki karakteristik yang berbeda dengan sampel-sampel **malignant**.\n",
        "\n",
        "> Berdasarkan hasil ini, dapat disimpulkan bahwa **Principal Component 1** dan **Principal Component 2** dapat digunakan untuk membedakan antara sampel-sampel **benign** dan **malignant** dengan cukup baik. Hal ini dapat dimanfaatkan untuk meningkatkan akurasi klasifikasi Breast Cancer.\n",
        "\n"
      ],
      "metadata": {
        "id": "iLSgtSoLskWh"
      }
    },
    {
      "cell_type": "code",
      "source": [
        "# Hasil PCA\n",
        "pca.explained_variance_ratio_"
      ],
      "metadata": {
        "colab": {
          "base_uri": "https://localhost:8080/"
        },
        "id": "0FAJZY48n05E",
        "outputId": "9a2b5029-672a-433b-b552-3d1cc6024ce0"
      },
      "execution_count": 26,
      "outputs": [
        {
          "output_type": "execute_result",
          "data": {
            "text/plain": [
              "array([0.59053008, 0.09999221])"
            ]
          },
          "metadata": {},
          "execution_count": 26
        }
      ]
    },
    {
      "cell_type": "markdown",
      "source": [
        "Hasil run PCA menunjukkan bahwa komponen utama pertama (PC1) mampu menjelaskan sekitar 59.1% dari total varians dalam data, sementara komponen utama kedua (PC2) memberikan kontribusi sebesar 10%. Kombinasi kedua rasio ini memberikan gambaran tentang seberapa baik representasi data telah direduksi dimensinya oleh dua komponen utama pertama. Dengan demikian, penggunaan PC1 dan PC2 mampu menjelaskan sebagian besar variabilitas dalam data asli, memungkinkan reduksi dimensi tanpa kehilangan informasi yang signifikan. Hasil ini memberikan wawasan tentang kontribusi relatif dari setiap komponen utama terhadap variasi total dalam data yang telah diproses menggunakan teknik PCA."
      ],
      "metadata": {
        "id": "8SHeNd63uYSK"
      }
    }
  ]
}