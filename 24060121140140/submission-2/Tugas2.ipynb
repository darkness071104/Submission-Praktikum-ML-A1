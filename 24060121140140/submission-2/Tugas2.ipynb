{
  "nbformat": 4,
  "nbformat_minor": 0,
  "metadata": {
    "colab": {
      "provenance": []
    },
    "kernelspec": {
      "name": "python3",
      "display_name": "Python 3"
    },
    "language_info": {
      "name": "python"
    }
  },
  "cells": [
    {
      "cell_type": "markdown",
      "source": [
        "* **Nama**: Fauzan Ramadhan Putra\n",
        "* **NIM** : 24060121140140\n",
        "* **Lab** : ML A1"
      ],
      "metadata": {
        "id": "CbLXlWOxA5aS"
      }
    },
    {
      "cell_type": "markdown",
      "source": [
        "# **Tugas Nomor 1**"
      ],
      "metadata": {
        "id": "6Ux-WPcBlhX3"
      }
    },
    {
      "cell_type": "code",
      "source": [
        "# Mengimpor library pandas untuk manipulasi data\n",
        "import pandas as pd"
      ],
      "metadata": {
        "id": "GAFGEXNISh06"
      },
      "execution_count": 31,
      "outputs": []
    },
    {
      "cell_type": "code",
      "source": [
        "# Menentukan URL dataset yang akan diunduh\n",
        "url = \"http://archive.ics.uci.edu/ml/machine-learning-databases/iris/iris.data\"\n",
        "\n",
        "# Menentukan nama kolom untuk dataset\n",
        "names = ['sepal-length', 'sepal-width', 'petal-length', 'petal-width', 'class']\n",
        "\n",
        "# Membaca dataset dari URL menggunakan pandas dan memberikan nama kolom\n",
        "dataset = pd.read_csv(url, names=names)"
      ],
      "metadata": {
        "id": "swrP21Bjl0qI"
      },
      "execution_count": 32,
      "outputs": []
    },
    {
      "cell_type": "code",
      "source": [
        "# Menampilkan 20 baris pertama dari dataset\n",
        "print(dataset.head(20))"
      ],
      "metadata": {
        "colab": {
          "base_uri": "https://localhost:8080/"
        },
        "id": "tZLxj_-68xQn",
        "outputId": "5f06c6b0-5710-4f0b-9bfd-973a6a7bf645"
      },
      "execution_count": 33,
      "outputs": [
        {
          "output_type": "stream",
          "name": "stdout",
          "text": [
            "    sepal-length  sepal-width  petal-length  petal-width        class\n",
            "0            5.1          3.5           1.4          0.2  Iris-setosa\n",
            "1            4.9          3.0           1.4          0.2  Iris-setosa\n",
            "2            4.7          3.2           1.3          0.2  Iris-setosa\n",
            "3            4.6          3.1           1.5          0.2  Iris-setosa\n",
            "4            5.0          3.6           1.4          0.2  Iris-setosa\n",
            "5            5.4          3.9           1.7          0.4  Iris-setosa\n",
            "6            4.6          3.4           1.4          0.3  Iris-setosa\n",
            "7            5.0          3.4           1.5          0.2  Iris-setosa\n",
            "8            4.4          2.9           1.4          0.2  Iris-setosa\n",
            "9            4.9          3.1           1.5          0.1  Iris-setosa\n",
            "10           5.4          3.7           1.5          0.2  Iris-setosa\n",
            "11           4.8          3.4           1.6          0.2  Iris-setosa\n",
            "12           4.8          3.0           1.4          0.1  Iris-setosa\n",
            "13           4.3          3.0           1.1          0.1  Iris-setosa\n",
            "14           5.8          4.0           1.2          0.2  Iris-setosa\n",
            "15           5.7          4.4           1.5          0.4  Iris-setosa\n",
            "16           5.4          3.9           1.3          0.4  Iris-setosa\n",
            "17           5.1          3.5           1.4          0.3  Iris-setosa\n",
            "18           5.7          3.8           1.7          0.3  Iris-setosa\n",
            "19           5.1          3.8           1.5          0.3  Iris-setosa\n"
          ]
        }
      ]
    },
    {
      "cell_type": "code",
      "source": [
        "# Mencetak bentuk (shape) dataset\n",
        "print(dataset.shape)"
      ],
      "metadata": {
        "colab": {
          "base_uri": "https://localhost:8080/"
        },
        "id": "mZ7SZwbY899p",
        "outputId": "d57ac83c-09da-41be-8e81-88eaad773b1a"
      },
      "execution_count": 34,
      "outputs": [
        {
          "output_type": "stream",
          "name": "stdout",
          "text": [
            "(150, 5)\n"
          ]
        }
      ]
    },
    {
      "cell_type": "code",
      "source": [
        "# Mengimport modul 'model_selection' dari pustaka scikit-learn.\n",
        "# Modul ini menyediakan fungsi untuk membagi dataset menjadi set pelatihan dan pengujian,\n",
        "# serta utilitas lainnya untuk pemilihan dan evaluasi model.\n",
        "\n",
        "from sklearn import model_selection"
      ],
      "metadata": {
        "id": "kvTfbYJY9HUy"
      },
      "execution_count": 35,
      "outputs": []
    },
    {
      "cell_type": "code",
      "source": [
        "# Mengonversi dataset menjadi array\n",
        "array = dataset.values\n",
        "\n",
        "# Memisahkan fitur (kolom 0 hingga 3) sebagai variabel independen (X)\n",
        "X = array[:, 0:4]\n",
        "\n",
        "# Memilih kolom 4 sebagai variabel dependen (Y)\n",
        "Y = array[:, 4]\n",
        "\n",
        "# Menentukan ukuran validasi (20% dari total data)\n",
        "validation_size = 0.20\n",
        "\n",
        "# Menentukan seed untuk reproducibility\n",
        "seed = 7\n",
        "\n",
        "# Membagi dataset menjadi data latih dan data validasi menggunakan train_test_split\n",
        "X_train, X_validation, Y_train, Y_validation = model_selection.train_test_split(X, Y, test_size=validation_size, random_state=seed)"
      ],
      "metadata": {
        "id": "oxpRhsyB9JPN"
      },
      "execution_count": 36,
      "outputs": []
    },
    {
      "cell_type": "markdown",
      "source": [
        "Penjelasan:\n",
        "* **array = dataset.values**: Mengonversi dataset menjadi array untuk mempermudah manipulasi data.\n",
        "* **X = array[:, 0:4]**: Menetapkan variabel independen (X) sebagai kolom 0 hingga 3 dari array.\n",
        "* **Y = array[:, 4]**: Menetapkan variabel dependen (Y) sebagai kolom 4 dari array.\n",
        "* **validation_size = 0.20**: Menentukan ukuran data validasi sebesar 20% dari total data.\n",
        "* **seed = 7**: Menentukan seed untuk memastikan hasil yang dapat direproduksi.\n",
        "* **X_train, X_validation, Y_train, Y_validation = model_selection.train_test_split(X, Y, test_size=validation_size, random_state=seed)**: Membagi dataset menjadi data latih dan data validasi menggunakan fungsi train_test_split dari modul model_selection dengan ukuran validasi sebesar validation_size dan seed sebesar seed.\n",
        "\n"
      ],
      "metadata": {
        "id": "L_LrLyI99dO5"
      }
    },
    {
      "cell_type": "code",
      "source": [
        "# Menampilkan dimensi (shape) dari set data pelatihan (X_train) menggunakan fungsi shape()\n",
        "print(\"X_train :\", X_train.shape)\n",
        "\n",
        "# Menampilkan dimensi (shape) dari set data validasi (X_validation) menggunakan fungsi shape()\n",
        "print(\"X_validation :\", X_validation.shape)\n",
        "\n",
        "# Menampilkan dimensi (shape) dari label data pelatihan (Y_train) menggunakan fungsi shape()\n",
        "print(\"Y_train :\", Y_train.shape)\n",
        "\n",
        "# Menampilkan dimensi (shape) dari label data validasi (Y_validation) menggunakan fungsi shape()\n",
        "print(\"Y_validation :\", Y_validation.shape)"
      ],
      "metadata": {
        "colab": {
          "base_uri": "https://localhost:8080/"
        },
        "id": "f-qTX2-R9MpH",
        "outputId": "5c4fee32-99db-4ede-e1b9-8bd672e840fd"
      },
      "execution_count": 37,
      "outputs": [
        {
          "output_type": "stream",
          "name": "stdout",
          "text": [
            "X_train : (120, 4)\n",
            "X_validation : (30, 4)\n",
            "Y_train : (120,)\n",
            "Y_validation : (30,)\n"
          ]
        }
      ]
    },
    {
      "cell_type": "markdown",
      "source": [
        "Penjelasan:\n",
        "\n",
        "* **X_train**: Menampilkan dimensi dari set data pelatihan.\n",
        "* **X_validation**: Menampilkan dimensi dari set data validasi.\n",
        "* **Y_train**: Menampilkan dimensi dari label data pelatihan.\n",
        "* **Y_validation**: Menampilkan dimensi dari label data validasi."
      ],
      "metadata": {
        "id": "tnH55xjm9eB_"
      }
    },
    {
      "cell_type": "code",
      "source": [
        "# Ini adalah penentuan nilai seed untuk reproducibility.\n",
        "# Seed digunakan agar hasil yang dihasilkan dapat direproduksi dengan cara yang sama setiap kali kode dijalankan.\n",
        "seed = 7\n",
        "\n",
        "# 'scoring' diatur sebagai 'accuracy' yang berarti pengukuran kinerja model menggunakan metrik akurasi.\n",
        "# Metrik akurasi mengukur sejauh mana model dapat mengklasifikasikan data dengan benar.\n",
        "scoring = 'accuracy'"
      ],
      "metadata": {
        "id": "ZFxVMMmR9Ux4"
      },
      "execution_count": 38,
      "outputs": []
    },
    {
      "cell_type": "markdown",
      "source": [
        "Penjelasan:\n",
        "\n",
        "* **seed** = 7: Mengatur nilai seed untuk tujuan reproducibility, memastikan bahwa hasil yang dihasilkan dapat direproduksi dengan cara yang sama setiap kali kode dijalankan.\n",
        "* **scoring** = 'accuracy': Mengatur metrik evaluasi model sebagai akurasi, yang mengukur sejauh mana model dapat mengklasifikasikan data dengan benar."
      ],
      "metadata": {
        "id": "u5XcbtNw9ibM"
      }
    },
    {
      "cell_type": "code",
      "source": [
        "# Mengimpor kelas-kelas yang dibutuhkan dari scikit-learn\n",
        "from sklearn.tree import DecisionTreeClassifier\n",
        "from sklearn.ensemble import RandomForestClassifier\n",
        "from sklearn.gaussian_process import GaussianProcessClassifier\n",
        "\n",
        "# Inisialisasi daftar untuk menyimpan model-model klasifikasi\n",
        "models = []\n",
        "\n",
        "# Menambahkan model Gaussian Process ke dalam daftar dengan inisialisasi default\n",
        "models.append(('Gaussian Process', GaussianProcessClassifier()))\n",
        "\n",
        "# Menambahkan model Decision Tree ke dalam daftar dengan inisialisasi default\n",
        "models.append(('Tree', DecisionTreeClassifier()))\n",
        "\n",
        "# Menambahkan model Random Forest ke dalam daftar dengan inisialisasi default\n",
        "models.append(('RandomForest', RandomForestClassifier()))"
      ],
      "metadata": {
        "id": "QtcEBsat93j6"
      },
      "execution_count": 40,
      "outputs": []
    },
    {
      "cell_type": "code",
      "source": [
        "# Inisialisasi list untuk menyimpan hasil evaluasi dan nama model\n",
        "results = []\n",
        "names = []\n",
        "\n",
        "# Iterasi melalui setiap model dan melakukan cross-validation\n",
        "for name, model in models:\n",
        "\n",
        "  # Membuat objek KFold untuk melakukan 10-fold cross-validation\n",
        "  kfold = model_selection.KFold(n_splits=10, random_state=seed, shuffle=True)\n",
        "\n",
        "  # Melakukan cross-validation dan menyimpan hasilnya\n",
        "  cv_results = model_selection.cross_val_score(model, X_train, Y_train, cv=kfold, scoring=scoring)\n",
        "  results.append(cv_results)\n",
        "  names.append(name)\n",
        "\n",
        "  # Menampilkan hasil evaluasi model beserta nama model, rata-rata, dan deviasi standarnya\n",
        "  msg = \"%s: %f (%f)\" % (name, cv_results.mean(), cv_results.std())\n",
        "  print(msg)"
      ],
      "metadata": {
        "colab": {
          "base_uri": "https://localhost:8080/"
        },
        "id": "8MeXLTrO-8O0",
        "outputId": "339ad22a-2149-437f-bf39-bb8b4db577db"
      },
      "execution_count": 41,
      "outputs": [
        {
          "output_type": "stream",
          "name": "stdout",
          "text": [
            "Gaussian Process: 0.983333 (0.033333)\n",
            "Tree: 0.950000 (0.076376)\n",
            "RandomForest: 0.966667 (0.040825)\n"
          ]
        }
      ]
    },
    {
      "cell_type": "markdown",
      "source": [
        "* Dari hasil output di atas, kita dapat melihat bahwa **Gaussian Process** memiliki nilai akurasi perkiraan terbesar. Setelah mengetahui model yang paling akurat yaitu Gaussian Process selanjutnya kita dapat mencoba melakukan pengujian tentang keakuratan model Gaussian Process terhadap data yang ada.\n",
        "\n"
      ],
      "metadata": {
        "id": "k1CBUTL3Av0T"
      }
    },
    {
      "cell_type": "code",
      "source": [
        "# Mengimpor tiga fungsi dari modul sklearn.metrics yaitu accuracy_score, confusion_matrix, dan classification_report untuk menghitung dan menammpilkan beberapa metrik evaluasi untuk model machine learning\n",
        "from sklearn.metrics import accuracy_score, confusion_matrix, classification_report"
      ],
      "metadata": {
        "id": "eVs4me4I_Ei7"
      },
      "execution_count": null,
      "outputs": []
    },
    {
      "cell_type": "code",
      "source": [
        "# Import library GaussianProcessClassifier\n",
        "gaussian = GaussianProcessClassifier()\n",
        "\n",
        "# Melatih model dengan data pelatihan\n",
        "gaussian.fit(X_train, Y_train)\n",
        "\n",
        "# Melakukan prediksi menggunakan model yang telah dilatih pada data validasi\n",
        "predictions = gaussian.predict(X_validation)\n",
        "\n",
        "# Menampilkan tingkat akurasi dari model Gaussian\n",
        "print(\"Akurasi Model Gaussian:\")\n",
        "\n",
        "# Menampilkan nilai akurasi model\n",
        "print(accuracy_score(Y_validation, predictions))\n",
        "\n",
        "# Menampilkan matriks kebingungan dari model Gaussian\n",
        "print(\"\\nMatriks Kebingungan Model Gaussian:\")\n",
        "\n",
        "# Menampilkan matriks kebingungan\n",
        "print(confusion_matrix(Y_validation, predictions))\n",
        "\n",
        "# Menampilkan laporan klasifikasi dari model Gaussian\n",
        "print(\"\\nLaporan Klasifikasi Model Gaussian:\")\n",
        "\n",
        "# Menampilkan laporan klasifikasi yang mencakup precision, recall, dan f1-score\n",
        "print(classification_report(Y_validation, predictions))"
      ],
      "metadata": {
        "colab": {
          "base_uri": "https://localhost:8080/"
        },
        "id": "ORCLnnVb_Miz",
        "outputId": "a5ee0913-dcc2-4a31-e6f0-da5d5106fa5a"
      },
      "execution_count": 43,
      "outputs": [
        {
          "output_type": "stream",
          "name": "stdout",
          "text": [
            "Accuracy Score of Gaussian:\n",
            "0.8666666666666667\n",
            "\n",
            "Confusion Matrix of Gaussian:\n",
            "[[ 7  0  0]\n",
            " [ 0 10  2]\n",
            " [ 0  2  9]]\n",
            "\n",
            "Classification Report of Gaussian:\n",
            "                 precision    recall  f1-score   support\n",
            "\n",
            "    Iris-setosa       1.00      1.00      1.00         7\n",
            "Iris-versicolor       0.83      0.83      0.83        12\n",
            " Iris-virginica       0.82      0.82      0.82        11\n",
            "\n",
            "       accuracy                           0.87        30\n",
            "      macro avg       0.88      0.88      0.88        30\n",
            "   weighted avg       0.87      0.87      0.87        30\n",
            "\n"
          ]
        }
      ]
    },
    {
      "cell_type": "markdown",
      "source": [
        "* Model Gaussian Process Classifier memiliki tingkat akurasi sebesar 86.67%, yang mengindikasikan bahwa model tersebut cukup baik dalam melakukan klasifikasi pada dataset yang digunakan. Matriks kebingungan (confusion matrix) menunjukkan bahwa model memiliki kemampuan yang baik dalam memprediksi kelas Iris-setosa, dengan seluruh 7 contoh berhasil diklasifikasikan dengan benar. Namun, terdapat beberapa contoh Iris-versicolor dan Iris-virginica yang salah diklasifikasikan, sebagaimana ditunjukkan oleh angka 2 pada kolom kedua dan baris ketiga matriks kebingungan.\n",
        "\n",
        "* Laporan klasifikasi menyediakan informasi lebih lanjut tentang kinerja model untuk setiap kelas. Precision, recall, dan f1-score memberikan gambaran tentang seberapa baik model dapat mengidentifikasi setiap kelas. Dalam hal ini, model memiliki precision yang tinggi untuk Iris-setosa, tetapi sedikit lebih rendah untuk Iris-versicolor dan Iris-virginica. Namun, recall dan f1-score untuk semua kelas masih berada pada tingkat yang baik, mencapai akurasi sebesar 87%.\n",
        "\n",
        "* Dengan melihat hasil ini, kita dapat menyimpulkan bahwa model Gaussian Process Classifier cukup baik dalam melakukan klasifikasi pada dataset Iris yang digunakan, walaupun masih ada ruang untuk peningkatan khususnya dalam mengidentifikasi kelas Iris-versicolor dan Iris-virginica."
      ],
      "metadata": {
        "id": "h8EBr1Z7AfNH"
      }
    },
    {
      "cell_type": "markdown",
      "source": [
        "# **Tugas Nomor 2**"
      ],
      "metadata": {
        "id": "PxpJU_UHSNAu"
      }
    },
    {
      "cell_type": "code",
      "execution_count": 19,
      "metadata": {
        "id": "to0JpVRYPatv"
      },
      "outputs": [],
      "source": [
        "import pandas as pd"
      ]
    },
    {
      "cell_type": "code",
      "source": [
        "# Mendefinisikan link dataset\n",
        "url = \"https://archive.ics.uci.edu/static/public/15/data.csv\"\n",
        "# Membaca dataset dari URL\n",
        "raw_dataset = pd.read_csv(url)\n",
        "# Memilih kolom-kolom tertentu dari dataset\n",
        "dataset = raw_dataset.iloc[:, 1:6]\n",
        "# Menentukan nama kolom-kolom\n",
        "names = ['Clump','cell_size','cell_shape','Marginal','epithelial']\n",
        "dataset.columns = names"
      ],
      "metadata": {
        "id": "CgqjJchiP_Xo"
      },
      "execution_count": 20,
      "outputs": []
    },
    {
      "cell_type": "code",
      "source": [
        "# Mencetak bentuk (shape) dataset\n",
        "print(dataset.shape)"
      ],
      "metadata": {
        "colab": {
          "base_uri": "https://localhost:8080/"
        },
        "id": "eSgpzh6OQGVb",
        "outputId": "9fdd20af-9b21-47ee-f2ee-dd4a41826fb3"
      },
      "execution_count": 21,
      "outputs": [
        {
          "output_type": "stream",
          "name": "stdout",
          "text": [
            "(699, 5)\n"
          ]
        }
      ]
    },
    {
      "cell_type": "code",
      "source": [
        "# Menampilkan 20 baris pertama dari dataset\n",
        "print(dataset.head(20))"
      ],
      "metadata": {
        "colab": {
          "base_uri": "https://localhost:8080/"
        },
        "id": "M1SZeR6YQO6l",
        "outputId": "99f7ddc6-9d3f-4c65-8886-550173edd1c4"
      },
      "execution_count": 22,
      "outputs": [
        {
          "output_type": "stream",
          "name": "stdout",
          "text": [
            "    Clump  cell_size  cell_shape  Marginal  epithelial\n",
            "0       5          1           1         1           2\n",
            "1       5          4           4         5           7\n",
            "2       3          1           1         1           2\n",
            "3       6          8           8         1           3\n",
            "4       4          1           1         3           2\n",
            "5       8         10          10         8           7\n",
            "6       1          1           1         1           2\n",
            "7       2          1           2         1           2\n",
            "8       2          1           1         1           2\n",
            "9       4          2           1         1           2\n",
            "10      1          1           1         1           1\n",
            "11      2          1           1         1           2\n",
            "12      5          3           3         3           2\n",
            "13      1          1           1         1           2\n",
            "14      8          7           5        10           7\n",
            "15      7          4           6         4           6\n",
            "16      4          1           1         1           2\n",
            "17      4          1           1         1           2\n",
            "18     10          7           7         6           4\n",
            "19      6          1           1         1           2\n"
          ]
        }
      ]
    },
    {
      "cell_type": "code",
      "source": [
        "# Mengimport modul 'model_selection' dari pustaka scikit-learn.\n",
        "# Modul ini menyediakan fungsi untuk membagi dataset menjadi set pelatihan dan pengujian,\n",
        "# serta utilitas lainnya untuk pemilihan dan evaluasi model.\n",
        "\n",
        "from sklearn import model_selection"
      ],
      "metadata": {
        "id": "1vNay8z-QU7R"
      },
      "execution_count": 23,
      "outputs": []
    },
    {
      "cell_type": "code",
      "source": [
        "# Mengonversi dataset menjadi array\n",
        "array = dataset.values\n",
        "\n",
        "# Memisahkan fitur (kolom 0 hingga 4) sebagai variabel independen (X)\n",
        "X = array[:, 0:5]\n",
        "\n",
        "# Memilih kolom 0 sebagai variabel dependen (Y)\n",
        "Y = array[:, 0]\n",
        "\n",
        "# Menentukan ukuran validasi (20% dari total data)\n",
        "validation_size = 0.20\n",
        "\n",
        "# Menentukan seed untuk reproducibility\n",
        "seed = 7\n",
        "\n",
        "# Membagi dataset menjadi data latih dan data validasi menggunakan train_test_split\n",
        "X_train, X_validation, Y_train, Y_validation = model_selection.train_test_split(X, Y, test_size=validation_size, random_state=seed)"
      ],
      "metadata": {
        "id": "E-waPX5QQa5Y"
      },
      "execution_count": 24,
      "outputs": []
    },
    {
      "cell_type": "markdown",
      "source": [
        "Penjelasan:\n",
        "* **array = dataset.values**: Mengonversi dataset menjadi array untuk mempermudah manipulasi data.\n",
        "* **X = array[:, 0:5]**: Menetapkan variabel independen (X) sebagai kolom 0 hingga 4 dari array.\n",
        "* **Y = array[:, 0]**: Menetapkan variabel dependen (Y) sebagai kolom 0 dari array.\n",
        "* **validation_size = 0.20**: Menentukan ukuran data validasi sebesar 20% dari total data.\n",
        "* **seed = 7**: Menentukan seed untuk memastikan hasil yang dapat direproduksi.\n",
        "* **X_train, X_validation, Y_train, Y_validation = model_selection.train_test_split(X, Y, test_size=validation_size, random_state=seed)**: Membagi dataset menjadi data latih dan data validasi menggunakan fungsi train_test_split dari modul model_selection dengan ukuran validasi sebesar validation_size dan seed sebesar seed.\n",
        "\n"
      ],
      "metadata": {
        "id": "Ks_q_evd30pQ"
      }
    },
    {
      "cell_type": "code",
      "source": [
        "# Menampilkan dimensi (shape) dari set data pelatihan (X_train) menggunakan fungsi shape()\n",
        "print(\"X_train :\", X_train.shape)\n",
        "\n",
        "# Menampilkan dimensi (shape) dari set data validasi (X_validation) menggunakan fungsi shape()\n",
        "print(\"X_validation :\", X_validation.shape)\n",
        "\n",
        "# Menampilkan dimensi (shape) dari label data pelatihan (Y_train) menggunakan fungsi shape()\n",
        "print(\"Y_train :\", Y_train.shape)\n",
        "\n",
        "# Menampilkan dimensi (shape) dari label data validasi (Y_validation) menggunakan fungsi shape()\n",
        "print(\"Y_validation :\", Y_validation.shape)"
      ],
      "metadata": {
        "colab": {
          "base_uri": "https://localhost:8080/"
        },
        "id": "UEOla1y8Qgow",
        "outputId": "7293d20c-b414-41bd-a23b-cc4ddf9ce360"
      },
      "execution_count": 25,
      "outputs": [
        {
          "output_type": "stream",
          "name": "stdout",
          "text": [
            "X_train : (559, 5)\n",
            "X_validation : (140, 5)\n",
            "Y_train : (559,)\n",
            "Y_validation : (140,)\n"
          ]
        }
      ]
    },
    {
      "cell_type": "markdown",
      "source": [
        "Penjelasan:\n",
        "\n",
        "* **X_train**: Menampilkan dimensi dari set data pelatihan.\n",
        "* **X_validation**: Menampilkan dimensi dari set data validasi.\n",
        "* **Y_train**: Menampilkan dimensi dari label data pelatihan.\n",
        "* **Y_validation**: Menampilkan dimensi dari label data validasi."
      ],
      "metadata": {
        "id": "Yg3vj9D73A7r"
      }
    },
    {
      "cell_type": "code",
      "source": [
        "# Ini adalah penentuan nilai seed untuk reproducibility.\n",
        "# Seed digunakan agar hasil yang dihasilkan dapat direproduksi dengan cara yang sama setiap kali kode dijalankan.\n",
        "seed = 7\n",
        "\n",
        "# 'scoring' diatur sebagai 'accuracy' yang berarti pengukuran kinerja model menggunakan metrik akurasi.\n",
        "# Metrik akurasi mengukur sejauh mana model dapat mengklasifikasikan data dengan benar.\n",
        "scoring = 'accuracy'"
      ],
      "metadata": {
        "id": "fTeVMiUdRlou"
      },
      "execution_count": 26,
      "outputs": []
    },
    {
      "cell_type": "markdown",
      "source": [
        "Penjelasan:\n",
        "\n",
        "* **seed** = 7: Mengatur nilai seed untuk tujuan reproducibility, memastikan bahwa hasil yang dihasilkan dapat direproduksi dengan cara yang sama setiap kali kode dijalankan.\n",
        "* **scoring** = 'accuracy': Mengatur metrik evaluasi model sebagai akurasi, yang mengukur sejauh mana model dapat mengklasifikasikan data dengan benar."
      ],
      "metadata": {
        "id": "HNmu2TyW3dFL"
      }
    },
    {
      "cell_type": "code",
      "source": [
        "# Mengimport kelas KNeighborsClassifier dari modul sklearn.neighbors\n",
        "from sklearn.neighbors import KNeighborsClassifier\n",
        "\n",
        "# Mengimport kelas GaussianNB dari modul sklearn.naive_bayes\n",
        "from sklearn.naive_bayes import GaussianNB\n",
        "\n",
        "# Mengimport kelas SVC (Support Vector Classification) dari modul sklearn.svm\n",
        "from sklearn.svm import SVC\n",
        "\n",
        "# Inisialisasi model K-Nearest Neighbors (KNN), Naive Bayes (NB), dan Support Vector Machine (SVM)\n",
        "models = []\n",
        "\n",
        "# Menambahkan model KNN ke dalam list models\n",
        "models.append(('KNN', KNeighborsClassifier()))\n",
        "\n",
        "# Menambahkan model Naive Bayes (NB) ke dalam list models\n",
        "models.append(('NB', GaussianNB()))\n",
        "\n",
        "# Menambahkan model Support Vector Machine (SVM) ke dalam list models\n",
        "models.append(('SVM', SVC()))"
      ],
      "metadata": {
        "id": "OGZJ-KdERppG"
      },
      "execution_count": 27,
      "outputs": []
    },
    {
      "cell_type": "code",
      "source": [
        "# Inisialisasi list untuk menyimpan hasil evaluasi dan nama model\n",
        "results = []\n",
        "names = []\n",
        "\n",
        "# Iterasi melalui setiap model dan melakukan cross-validation\n",
        "for name, model in models:\n",
        "\n",
        "  # Membuat objek KFold untuk melakukan 10-fold cross-validation\n",
        "  kfold = model_selection.KFold(n_splits=10, random_state=seed, shuffle=True)\n",
        "\n",
        "  # Melakukan cross-validation dan menyimpan hasilnya\n",
        "  cv_results = model_selection.cross_val_score(model, X_train, Y_train, cv=kfold, scoring=scoring)\n",
        "  results.append(cv_results)\n",
        "  names.append(name)\n",
        "\n",
        "  # Menampilkan hasil evaluasi model beserta nama model, rata-rata, dan deviasi standarnya\n",
        "  msg = \"%s: %f (%f)\" % (name, cv_results.mean(), cv_results.std())\n",
        "  print(msg)"
      ],
      "metadata": {
        "colab": {
          "base_uri": "https://localhost:8080/"
        },
        "id": "uBt-ZrLrRs9q",
        "outputId": "5f06cc01-5c40-4f88-ebbc-a049565aecc1"
      },
      "execution_count": 28,
      "outputs": [
        {
          "output_type": "stream",
          "name": "stdout",
          "text": [
            "KNN: 0.790747 (0.042073)\n",
            "NB: 1.000000 (0.000000)\n",
            "SVM: 0.856916 (0.029752)\n"
          ]
        }
      ]
    },
    {
      "cell_type": "markdown",
      "source": [
        "* Dari hasil output di atas, kita dapat melihat bahwa **SVM** memiliki nilai akurasi perkiraan terbesar. Setelah mengetahui model yang paling akurat yaitu SVM selanjutnya kita dapat mencoba melakukan pengujian tentang keakuratan model SVM terhadap data yang ada.\n",
        "\n"
      ],
      "metadata": {
        "id": "aCFWo_7W4wdL"
      }
    },
    {
      "cell_type": "code",
      "source": [
        "# Mengimpor tiga fungsi dari modul sklearn.metrics yaitu accuracy_score, confusion_matrix, dan classification_report untuk menghitung dan menammpilkan beberapa metrik evaluasi untuk model machine learning\n",
        "from sklearn.metrics import accuracy_score, confusion_matrix, classification_report"
      ],
      "metadata": {
        "id": "9WiB3qgqSEsP"
      },
      "execution_count": 29,
      "outputs": []
    },
    {
      "cell_type": "code",
      "source": [
        "# Make predictions on validation dataset\n",
        "# Membuat sebuah variable bernama nb yang berisi objek dari kelas GaussinNB\n",
        "nb = GaussianNB()\n",
        "\n",
        "# Melatih model nb dengan menggunakan data fitur dan target dari data latih yaitu X_train dan Y_train\n",
        "nb.fit(X_train, Y_train)\n",
        "\n",
        "# Membuat variable bernama predictions yang berisi sebuah array numpy yang berisi prediksi kelas dari model nb, untuk data fitur validasi yaitu Y_validation\n",
        "predictions = nb.predict(X_validation)\n",
        "\n",
        "# Mencetak string judul accuracy score dari nb\n",
        "print(\"Accuracy Score of GaussianNB:\")\n",
        "\n",
        "# Mencetak nilai akurasi dari model nb yaitu seberapa sering prediksi model svm sesuai dengan kelas yang sebenarnya dari data validasi\n",
        "print(accuracy_score(Y_validation, predictions))\n",
        "\n",
        "# Mencetak string judul confusion matrix dari nb\n",
        "print(\"\\nConfusion Matrix of GaussianNB:\")\n",
        "\n",
        "# Mencetak confusion matrix dari model nb yang menampilkan jumlah data benar yang terklasifikasi (diagonal utama) dan jumlah data yang salah terklasifikasi (di luar diagonal utama) untuk setiap kelas yang ada\n",
        "print(confusion_matrix(Y_validation, predictions))\n",
        "\n",
        "# Mencetak string judul classification report dari nb\n",
        "print(\"\\nClassification Report of GaussianNB:\")\n",
        "\n",
        "# Mencetak classification report dari model nb yang menampilkan nilai-nilai precision, recall, f1-score, dan support untuk setiap kelas, serta rata-rata dari semua kelas\n",
        "print(classification_report(Y_validation, predictions))"
      ],
      "metadata": {
        "colab": {
          "base_uri": "https://localhost:8080/"
        },
        "id": "p6kKb63ASF-t",
        "outputId": "294d5ead-d771-4b90-b01c-eb5e5186d59f"
      },
      "execution_count": 30,
      "outputs": [
        {
          "output_type": "stream",
          "name": "stdout",
          "text": [
            "Accuracy Score of GaussianNB:\n",
            "1.0\n",
            "\n",
            "Confusion Matrix of GaussianNB:\n",
            "[[32  0  0  0  0  0  0  0  0  0]\n",
            " [ 0  8  0  0  0  0  0  0  0  0]\n",
            " [ 0  0 24  0  0  0  0  0  0  0]\n",
            " [ 0  0  0 18  0  0  0  0  0  0]\n",
            " [ 0  0  0  0 25  0  0  0  0  0]\n",
            " [ 0  0  0  0  0  5  0  0  0  0]\n",
            " [ 0  0  0  0  0  0  5  0  0  0]\n",
            " [ 0  0  0  0  0  0  0  9  0  0]\n",
            " [ 0  0  0  0  0  0  0  0  5  0]\n",
            " [ 0  0  0  0  0  0  0  0  0  9]]\n",
            "\n",
            "Classification Report of GaussianNB:\n",
            "              precision    recall  f1-score   support\n",
            "\n",
            "           1       1.00      1.00      1.00        32\n",
            "           2       1.00      1.00      1.00         8\n",
            "           3       1.00      1.00      1.00        24\n",
            "           4       1.00      1.00      1.00        18\n",
            "           5       1.00      1.00      1.00        25\n",
            "           6       1.00      1.00      1.00         5\n",
            "           7       1.00      1.00      1.00         5\n",
            "           8       1.00      1.00      1.00         9\n",
            "           9       1.00      1.00      1.00         5\n",
            "          10       1.00      1.00      1.00         9\n",
            "\n",
            "    accuracy                           1.00       140\n",
            "   macro avg       1.00      1.00      1.00       140\n",
            "weighted avg       1.00      1.00      1.00       140\n",
            "\n"
          ]
        }
      ]
    },
    {
      "cell_type": "markdown",
      "source": [
        "* Model Gaussian Naive Bayes (GaussianNB) yang diterapkan pada data validasi menghasilkan hasil evaluasi yang sangat memuaskan. Akurasi model mencapai nilai sempurna 1.0 atau 100%, menunjukkan bahwa model berhasil mengklasifikasikan seluruh data validasi tanpa kesalahan. Hasil matriks konfusi menegaskan ketepatan model dalam memprediksi kelas untuk setiap sampel, dengan tidak ada kesalahan klasifikasi yang tercatat.\n",
        "\n",
        "* Matriks konfusi menunjukkan bahwa setiap kelas pada data validasi diklasifikasikan dengan sempurna, yang tercermin dari diagonal utama yang berisi jumlah data yang benar terklasifikasi untuk setiap kelas. Elemen di luar diagonal utama adalah nol, menandakan bahwa tidak ada kesalahan klasifikasi yang terjadi. Selain itu, hasil dari classification report mengindikasikan bahwa model memiliki precision, recall, dan f1-score yang sangat tinggi untuk setiap kelas, dengan nilai 1.0. Hal ini menandakan kemampuan model dalam mengidentifikasi dan mengklasifikasikan setiap kelas secara akurat.\n",
        "\n",
        "* Secara keseluruhan, kinerja model GaussianNB pada data validasi sangat baik, memberikan keyakinan bahwa model ini dapat diandalkan dalam tugas klasifikasi. Namun, sebaiknya evaluasi tambahan dilakukan pada data yang belum pernah dilihat sebelumnya untuk memastikan generalisasi yang baik pada situasi dunia nyata."
      ],
      "metadata": {
        "id": "NUjWbM8Y7Asi"
      }
    }
  ]
}